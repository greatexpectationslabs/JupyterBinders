{
 "cells": [
  {
   "cell_type": "code",
   "execution_count": 1,
   "metadata": {},
   "outputs": [],
   "source": [
    "import great_expectations as ge\n",
    "from great_expectations import DataContext\n",
    "from great_expectations.data_context.types.base import DataContextConfig\n",
    "from great_expectations.data_context import BaseDataContext\n",
    "import great_expectations.exceptions as ge_exceptions\n",
    "\n",
    "from great_expectations.dataset import SparkDFDataset\n",
    "\n",
    "\n",
    "import json\n",
    "import datetime"
   ]
  },
  {
   "cell_type": "code",
   "execution_count": null,
   "metadata": {},
   "outputs": [],
   "source": [
    "# File location and type\n",
    "file_location = \"dc_wikia_data.csv\"\n",
    "file_type = \"csv\"\n",
    "\n",
    "# CSV options\n",
    "infer_schema = \"false\"\n",
    "first_row_is_header = \"false\"\n",
    "delimiter = \",\"\n",
    "\n",
    "# The applied options are for CSV files. For other file types, these will be ignored.\n",
    "df = spark.read.format(file_type) \\\n",
    "  .option(\"inferSchema\", infer_schema) \\\n",
    "  .option(\"header\", first_row_is_header) \\\n",
    "  .option(\"sep\", delimiter) \\\n",
    "  .load(file_location)\n",
    "\n",
    "display(df)"
   ]
  },
  {
   "cell_type": "code",
   "execution_count": null,
   "metadata": {},
   "outputs": [],
   "source": [
    "project_config = DataContextConfig(\n",
    "    config_version=2,\n",
    "    plugins_directory=None,\n",
    "    config_variables_file_path=None,\n",
    "    datasources={\n",
    "       \"my_local_datasource\": {\n",
    "           \"data_asset_type\": {\n",
    "               \"class_name\": \"SparkDFDataset\",\n",
    "               \"module_name\": \"great_expectations.dataset\",\n",
    "           },\n",
    "           \"class_name\": \"SparkDFDatasource\",\n",
    "           \"module_name\": \"great_expectations.datasource\",\n",
    "           \"batch_kwargs_generators\": {},\n",
    "       }\n",
    "    },\n",
    "\n",
    "    stores={\n",
    "       \"expectations_store\": {\n",
    "           \"class_name\": \"ExpectationsStore\",\n",
    "           \"store_backend\": {\n",
    "               \"class_name\": \"TupleFilesystemStoreBackend\",\n",
    "               \"base_directory\": \"/FileStore/testing/expectations/\"\n",
    "           },\n",
    "       },\n",
    "       \"validations_store\": {\n",
    "           \"class_name\": \"ValidationsStore\",\n",
    "           \"store_backend\": {\n",
    "               \"class_name\": \"TupleFilesystemStoreBackend\",\n",
    "               \"base_directory\": \"/FileStore/testing/validations/\"\n",
    "           },\n",
    "       },\n",
    "       \"evaluation_parameter_store\": {\"class_name\": \"EvaluationParameterStore\"},\n",
    "    },\n",
    "    expectations_store_name=\"expectations_store\",\n",
    "    validations_store_name=\"validations_store\",\n",
    "    evaluation_parameter_store_name=\"evaluation_parameter_store\",\n",
    "    data_docs_sites={\n",
    "       \"local_site\": {\n",
    "           \"class_name\": \"SiteBuilder\",\n",
    "           \"store_backend\": {\n",
    "               \"class_name\": \"TupleFilesystemStoreBackend\",\n",
    "               \"base_directory\": \"/FileStore/testing/data_docs/\"\n",
    "           },\n",
    "           \"site_index_builder\": {\n",
    "               \"class_name\": \"DefaultSiteIndexBuilder\",\n",
    "               \"show_cta_footer\": True,\n",
    "           },\n",
    "       }\n",
    "    },\n",
    "    validation_operators={\n",
    "       \"action_list_operator\": {\n",
    "           \"class_name\": \"ActionListValidationOperator\",\n",
    "           \"action_list\": [\n",
    "               {\n",
    "                   \"name\": \"store_validation_result\",\n",
    "                   \"action\": {\"class_name\": \"StoreValidationResultAction\"},\n",
    "               },\n",
    "               {\n",
    "                   \"name\": \"store_evaluation_params\",\n",
    "                   \"action\": {\"class_name\": \"StoreEvaluationParametersAction\"},\n",
    "               },\n",
    "               {\n",
    "                   \"name\": \"update_data_docs\",\n",
    "                   \"action\": {\"class_name\": \"UpdateDataDocsAction\"},\n",
    "               },\n",
    "           ],\n",
    "       }\n",
    "    },\n",
    "    anonymous_usage_statistics={\n",
    "     \"enabled\": True\n",
    "    }\n",
    "    )"
   ]
  },
  {
   "cell_type": "code",
   "execution_count": null,
   "metadata": {},
   "outputs": [],
   "source": [
    "context = BaseDataContext(project_config=project_config)\n"
   ]
  },
  {
   "cell_type": "code",
   "execution_count": null,
   "metadata": {},
   "outputs": [],
   "source": [
    "context.create_expectation_suite(\"my_new_suite\")\n"
   ]
  },
  {
   "cell_type": "code",
   "execution_count": null,
   "metadata": {},
   "outputs": [],
   "source": [
    "my_batch = context.get_batch({\n",
    "      \"dataset\": df,\n",
    "      \"datasource\": \"my_local_datasource\",\n",
    "   }, \"my_new_suite\")"
   ]
  },
  {
   "cell_type": "code",
   "execution_count": null,
   "metadata": {},
   "outputs": [],
   "source": [
    "my_batch.expect_table_columns_to_match_ordered_list([\"_c0\", \"_c1\", \"_c2\", \"_c3\", \"_c4\", \"_c5\", \"_c6\", \"_c7\",\"_c8\", \"_c9\", \"_c10\", \"_c11\", \"_c12\"])\n"
   ]
  },
  {
   "cell_type": "code",
   "execution_count": null,
   "metadata": {},
   "outputs": [],
   "source": [
    "GE_spark_df.save_expectation_suite(filepath=\"/FileStore/testing/expectations/test.json\")"
   ]
  }
 ],
 "metadata": {
  "kernelspec": {
   "display_name": "Python 3",
   "language": "python",
   "name": "python3"
  },
  "language_info": {
   "codemirror_mode": {
    "name": "ipython",
    "version": 3
   },
   "file_extension": ".py",
   "mimetype": "text/x-python",
   "name": "python",
   "nbconvert_exporter": "python",
   "pygments_lexer": "ipython3",
   "version": "3.7.6"
  }
 },
 "nbformat": 4,
 "nbformat_minor": 4
}
