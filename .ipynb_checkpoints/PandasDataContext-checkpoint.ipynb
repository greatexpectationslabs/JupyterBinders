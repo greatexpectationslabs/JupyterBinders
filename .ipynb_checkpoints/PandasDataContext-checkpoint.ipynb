{
 "cells": [
  {
   "cell_type": "code",
   "execution_count": 1,
   "metadata": {},
   "outputs": [],
   "source": [
    "import great_expectations as ge\n",
    "from great_expectations import DataContext\n",
    "from great_expectations.data_context.types.base import DataContextConfig\n",
    "from great_expectations.data_context import BaseDataContext\n",
    "import great_expectations.exceptions as ge_exceptions\n",
    "\n",
    "from great_expectations.dataset import SparkDFDataset\n",
    "\n",
    "\n",
    "import json\n",
    "import datetime"
   ]
  },
  {
   "cell_type": "code",
   "execution_count": 2,
   "metadata": {},
   "outputs": [],
   "source": [
    "# local file\n",
    "f = \"dc_wikia_data.csv\"\n"
   ]
  },
  {
   "cell_type": "code",
   "execution_count": 11,
   "metadata": {},
   "outputs": [],
   "source": [
    "project_config = DataContextConfig(\n",
    "    config_version=2,\n",
    "    plugins_directory=None,\n",
    "    config_variables_file_path=None,\n",
    "    datasources={\n",
    "       \"my_local_datasource\": {\n",
    "           \"data_asset_type\": {\n",
    "               \"class_name\": \"PandasDataset\",\n",
    "               \"module_name\": \"great_expectations.dataset\",\n",
    "           },\n",
    "           \"class_name\": \"PandasDatasource\",\n",
    "           \"module_name\": \"great_expectations.datasource\",\n",
    "           \"batch_kwargs_generators\": {},\n",
    "       }\n",
    "    },\n",
    "\n",
    "    stores={\n",
    "       \"expectations_store\": {\n",
    "           \"class_name\": \"ExpectationsStore\",\n",
    "           \"store_backend\": {\n",
    "               \"class_name\": \"TupleFilesystemStoreBackend\",\n",
    "               \"base_directory\": \"/Users/work/Development/JupyterBinders/testing/expectations/\"\n",
    "           },\n",
    "       },\n",
    "       \"validations_store\": {\n",
    "           \"class_name\": \"ValidationsStore\",\n",
    "           \"store_backend\": {\n",
    "               \"class_name\": \"TupleFilesystemStoreBackend\",\n",
    "               \"base_directory\": \"/Users/work/Development/JupyterBinders/testing/validations/\"\n",
    "           },\n",
    "       },\n",
    "       \"evaluation_parameter_store\": {\"class_name\": \"EvaluationParameterStore\"},\n",
    "    },\n",
    "    expectations_store_name=\"expectations_store\",\n",
    "    validations_store_name=\"validations_store\",\n",
    "    evaluation_parameter_store_name=\"evaluation_parameter_store\",\n",
    "    data_docs_sites={\n",
    "       \"local_site\": {\n",
    "           \"class_name\": \"SiteBuilder\",\n",
    "           \"store_backend\": {\n",
    "               \"class_name\": \"TupleFilesystemStoreBackend\",\n",
    "               \"base_directory\": \"/Users/work/Development/JupyterBinders/testing/data_docs/\"\n",
    "           },\n",
    "           \"site_index_builder\": {\n",
    "               \"class_name\": \"DefaultSiteIndexBuilder\",\n",
    "               \"show_cta_footer\": True,\n",
    "           },\n",
    "       }\n",
    "    },\n",
    "    validation_operators={\n",
    "       \"action_list_operator\": {\n",
    "           \"class_name\": \"ActionListValidationOperator\",\n",
    "           \"action_list\": [\n",
    "               {\n",
    "                   \"name\": \"store_validation_result\",\n",
    "                   \"action\": {\"class_name\": \"StoreValidationResultAction\"},\n",
    "               },\n",
    "               {\n",
    "                   \"name\": \"store_evaluation_params\",\n",
    "                   \"action\": {\"class_name\": \"StoreEvaluationParametersAction\"},\n",
    "               },\n",
    "               {\n",
    "                   \"name\": \"update_data_docs\",\n",
    "                   \"action\": {\"class_name\": \"UpdateDataDocsAction\"},\n",
    "               },\n",
    "           ],\n",
    "       }\n",
    "    },\n",
    "    anonymous_usage_statistics={\n",
    "     \"enabled\": True\n",
    "    }\n",
    "    )"
   ]
  },
  {
   "cell_type": "code",
   "execution_count": 12,
   "metadata": {},
   "outputs": [],
   "source": [
    "context = BaseDataContext(project_config=project_config)\n"
   ]
  },
  {
   "cell_type": "code",
   "execution_count": 13,
   "metadata": {},
   "outputs": [
    {
     "ename": "DataContextError",
     "evalue": "expectation_suite with name my_new_suite already exists. If you would like to overwrite this expectation_suite, set overwrite_existing=True.",
     "output_type": "error",
     "traceback": [
      "\u001b[0;31m---------------------------------------------------------------------------\u001b[0m",
      "\u001b[0;31mDataContextError\u001b[0m                          Traceback (most recent call last)",
      "\u001b[0;32m<ipython-input-13-7ca7538eb288>\u001b[0m in \u001b[0;36m<module>\u001b[0;34m\u001b[0m\n\u001b[0;32m----> 1\u001b[0;31m \u001b[0mcontext\u001b[0m\u001b[0;34m.\u001b[0m\u001b[0mcreate_expectation_suite\u001b[0m\u001b[0;34m(\u001b[0m\u001b[0;34m\"my_new_suite\"\u001b[0m\u001b[0;34m)\u001b[0m\u001b[0;34m\u001b[0m\u001b[0;34m\u001b[0m\u001b[0m\n\u001b[0m",
      "\u001b[0;32m~/Development/great_expectations/great_expectations/data_context/data_context.py\u001b[0m in \u001b[0;36mcreate_expectation_suite\u001b[0;34m(self, expectation_suite_name, overwrite_existing)\u001b[0m\n\u001b[1;32m   1221\u001b[0m                 \u001b[0;34m\"expectation_suite with name {} already exists. If you would like to overwrite this \"\u001b[0m\u001b[0;34m\u001b[0m\u001b[0;34m\u001b[0m\u001b[0m\n\u001b[1;32m   1222\u001b[0m                 \"expectation_suite, set overwrite_existing=True.\".format(\n\u001b[0;32m-> 1223\u001b[0;31m                     \u001b[0mexpectation_suite_name\u001b[0m\u001b[0;34m\u001b[0m\u001b[0;34m\u001b[0m\u001b[0m\n\u001b[0m\u001b[1;32m   1224\u001b[0m                 )\n\u001b[1;32m   1225\u001b[0m             )\n",
      "\u001b[0;31mDataContextError\u001b[0m: expectation_suite with name my_new_suite already exists. If you would like to overwrite this expectation_suite, set overwrite_existing=True."
     ]
    }
   ],
   "source": [
    "context.create_expectation_suite(\"my_new_suite\")\n"
   ]
  },
  {
   "cell_type": "code",
   "execution_count": 14,
   "metadata": {},
   "outputs": [],
   "source": [
    "my_batch = context.get_batch({\n",
    "      \"path\": \"/Users/work/Development/JupyterBinders/dc-wikia-data.csv\", \n",
    "      \"datasource\": \"my_local_datasource\",\n",
    "   }, \"my_new_suite\")"
   ]
  },
  {
   "cell_type": "code",
   "execution_count": 17,
   "metadata": {},
   "outputs": [
    {
     "data": {
      "text/plain": [
       "{\n",
       "  \"exception_info\": null,\n",
       "  \"success\": true,\n",
       "  \"result\": {\n",
       "    \"observed_value\": [\n",
       "      \"page_id\",\n",
       "      \"name\",\n",
       "      \"urlslug\",\n",
       "      \"ID\",\n",
       "      \"ALIGN\",\n",
       "      \"EYE\",\n",
       "      \"HAIR\",\n",
       "      \"SEX\",\n",
       "      \"GSM\",\n",
       "      \"ALIVE\",\n",
       "      \"APPEARANCES\",\n",
       "      \"FIRST APPEARANCE\",\n",
       "      \"YEAR\"\n",
       "    ]\n",
       "  },\n",
       "  \"meta\": {}\n",
       "}"
      ]
     },
     "execution_count": 17,
     "metadata": {},
     "output_type": "execute_result"
    }
   ],
   "source": [
    "my_batch.expect_table_columns_to_match_ordered_list([\"page_id\",\n",
    "      \"name\",\n",
    "      \"urlslug\",\n",
    "      \"ID\",\n",
    "      \"ALIGN\",\n",
    "      \"EYE\",\n",
    "      \"HAIR\",\n",
    "      \"SEX\",\n",
    "      \"GSM\",\n",
    "      \"ALIVE\",\n",
    "      \"APPEARANCES\",\n",
    "      \"FIRST APPEARANCE\",\n",
    "      \"YEAR\"])"
   ]
  },
  {
   "cell_type": "code",
   "execution_count": null,
   "metadata": {},
   "outputs": [],
   "source": [
    "#GE_spark_df.save_expectation_suite(filepath=\"/FileStore/testing/expectations/test.json\")"
   ]
  }
 ],
 "metadata": {
  "kernelspec": {
   "display_name": "Python 3",
   "language": "python",
   "name": "python3"
  },
  "language_info": {
   "codemirror_mode": {
    "name": "ipython",
    "version": 3
   },
   "file_extension": ".py",
   "mimetype": "text/x-python",
   "name": "python",
   "nbconvert_exporter": "python",
   "pygments_lexer": "ipython3",
   "version": "3.7.6"
  }
 },
 "nbformat": 4,
 "nbformat_minor": 4
}
