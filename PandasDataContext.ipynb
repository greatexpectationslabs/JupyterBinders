{
 "cells": [
  {
   "cell_type": "markdown",
   "metadata": {},
   "source": [
    "# Workflow for working with GE in a Jupyter Notebook\n",
    "\n",
    "- This documentation is a mock-up of how you can work with GE in a Jupyter notebook without using the CLI. "
   ]
  },
  {
   "cell_type": "code",
   "execution_count": 2,
   "metadata": {},
   "outputs": [],
   "source": [
    "# packages that are needed to run the example. \n",
    "import json\n",
    "import os\n",
    "\n",
    "import great_expectations as ge\n",
    "from great_expectations import DataContext\n",
    "from great_expectations.data_context.types.base import DataContextConfig\n",
    "from great_expectations.data_context import BaseDataContext\n",
    "import great_expectations.exceptions as ge_exceptions"
   ]
  },
  {
   "cell_type": "markdown",
   "metadata": {},
   "source": [
    "- The paths are going to be different in each environment. The following path will run with the linked Jupyter Binder instance. \n",
    "- additional documentation on how data sources and metadata stores can be configured can be found in the following documentation \n",
    "    - AWS Apache [add link]\n",
    "    - Databricks notebook [add link]"
   ]
  },
  {
   "cell_type": "code",
   "execution_count": 4,
   "metadata": {},
   "outputs": [],
   "source": [
    "#print(os.getcwd())\n",
    "#for dirname, dirnames, filenames in os.walk('.'):\n",
    "#    # print path to all subdirectories first.\n",
    "#    for subdirname in dirnames:\n",
    "#        print(os.path.join(dirname, subdirname))\n",
    "    # print path to all filenames.\n",
    "#    for filename in filenames:\n",
    "#        print(os.path.join(dirname, filename))"
   ]
  },
  {
   "cell_type": "markdown",
   "metadata": {},
   "source": [
    "## DataContext Configuration\n",
    "\n",
    "- the follow code will create the configuration for project. The configuration is  `project_config`\n",
    "- `datasource` is set as `PandasDatset`, and we will be linking it to our example dataset. \n",
    "- our `expectation_store` is set to `/home/jovyan/testing/expectations`, which is the folder in our Docker container\n",
    "- our `validations_store` is set to `/home/jovyan/testing/validations`, which is the folder in our Docker container\n",
    "- our `local_site` is set to `/home/jovyan/testing/docs`, which is the folder in our Docker container"
   ]
  },
  {
   "cell_type": "code",
   "execution_count": 54,
   "metadata": {},
   "outputs": [],
   "source": [
    "project_config = DataContextConfig(\n",
    "    config_version=2,\n",
    "    plugins_directory=None,\n",
    "    config_variables_file_path=None,\n",
    "    datasources={\n",
    "       \"my_local_datasource\": {\n",
    "           \"data_asset_type\": {\n",
    "               \"class_name\": \"PandasDataset\",\n",
    "               \"module_name\": \"great_expectations.dataset\",\n",
    "           },\n",
    "           \"class_name\": \"PandasDatasource\",\n",
    "           \"module_name\": \"great_expectations.datasource\",\n",
    "           \"batch_kwargs_generators\": {},\n",
    "       }\n",
    "    },\n",
    "\n",
    "    stores={\n",
    "       \"expectations_store\": {\n",
    "           \"class_name\": \"ExpectationsStore\",\n",
    "           \"store_backend\": {\n",
    "               \"class_name\": \"TupleFilesystemStoreBackend\",\n",
    "               \"base_directory\": \"/home/jovyan/testing/expectations/\"\n",
    "           },\n",
    "       },\n",
    "       \"validations_store\": {\n",
    "           \"class_name\": \"ValidationsStore\",\n",
    "           \"store_backend\": {\n",
    "               \"class_name\": \"TupleFilesystemStoreBackend\",\n",
    "               \"base_directory\": \"/home/jovyan/testing/validations/\"\n",
    "\n",
    "           },\n",
    "       },\n",
    "       \"evaluation_parameter_store\": {\"class_name\": \"EvaluationParameterStore\"},\n",
    "    },\n",
    "    expectations_store_name=\"expectations_store\",\n",
    "    validations_store_name=\"validations_store\",\n",
    "    evaluation_parameter_store_name=\"evaluation_parameter_store\",\n",
    "    data_docs_sites={\n",
    "       \"local_site\": {\n",
    "           \"class_name\": \"SiteBuilder\",\n",
    "           \"store_backend\": {\n",
    "               \"class_name\": \"TupleFilesystemStoreBackend\",\n",
    "               \"base_directory\": \"/home/jovyan/testing/data_docs/\",\n",
    "\n",
    "           },\n",
    "           \"site_index_builder\": {\n",
    "               \"class_name\": \"DefaultSiteIndexBuilder\",\n",
    "               \"show_cta_footer\": True,\n",
    "           },\n",
    "       }\n",
    "    },\n",
    "    validation_operators={\n",
    "       \"action_list_operator\": {\n",
    "           \"class_name\": \"ActionListValidationOperator\",\n",
    "           \"action_list\": [\n",
    "               {\n",
    "                   \"name\": \"store_validation_result\",\n",
    "                   \"action\": {\"class_name\": \"StoreValidationResultAction\"},\n",
    "               },\n",
    "               {\n",
    "                   \"name\": \"store_evaluation_params\",\n",
    "                   \"action\": {\"class_name\": \"StoreEvaluationParametersAction\"},\n",
    "               },\n",
    "               {\n",
    "                   \"name\": \"update_data_docs\",\n",
    "                   \"action\": {\"class_name\": \"UpdateDataDocsAction\"},\n",
    "               },\n",
    "           ],\n",
    "       }\n",
    "    },\n",
    "    anonymous_usage_statistics={\n",
    "     \"enabled\": True\n",
    "    }\n",
    "    )"
   ]
  },
  {
   "cell_type": "markdown",
   "metadata": {},
   "source": [
    "## Creating `BaseDataContext`\n",
    "\n",
    "- Create a Great Expectations `data_context` using the config you created above. "
   ]
  },
  {
   "cell_type": "code",
   "execution_count": 5,
   "metadata": {},
   "outputs": [
    {
     "ename": "NameError",
     "evalue": "name 'project_config' is not defined",
     "output_type": "error",
     "traceback": [
      "\u001b[0;31m---------------------------------------------------------------------------\u001b[0m",
      "\u001b[0;31mNameError\u001b[0m                                 Traceback (most recent call last)",
      "\u001b[0;32m<ipython-input-5-058bfd96da3e>\u001b[0m in \u001b[0;36m<module>\u001b[0;34m\u001b[0m\n\u001b[0;32m----> 1\u001b[0;31m \u001b[0mcontext\u001b[0m \u001b[0;34m=\u001b[0m \u001b[0mBaseDataContext\u001b[0m\u001b[0;34m(\u001b[0m\u001b[0mproject_config\u001b[0m\u001b[0;34m=\u001b[0m\u001b[0mproject_config\u001b[0m\u001b[0;34m)\u001b[0m\u001b[0;34m\u001b[0m\u001b[0;34m\u001b[0m\u001b[0m\n\u001b[0m",
      "\u001b[0;31mNameError\u001b[0m: name 'project_config' is not defined"
     ]
    }
   ],
   "source": [
    "context = BaseDataContext(project_config=project_config)\n"
   ]
  },
  {
   "cell_type": "markdown",
   "metadata": {},
   "source": [
    "## Creating Expectation Suite\n",
    "- Use the `DataContext` to create a new Expectation Suite. \n",
    "- **Note** The Expectation Suite will be saved in the `/home/jovyan/testing/expectations/` directory we defined above"
   ]
  },
  {
   "cell_type": "code",
   "execution_count": 56,
   "metadata": {},
   "outputs": [
    {
     "ename": "DataContextError",
     "evalue": "expectation_suite with name my_new_suite already exists. If you would like to overwrite this expectation_suite, set overwrite_existing=True.",
     "output_type": "error",
     "traceback": [
      "\u001b[0;31m---------------------------------------------------------------------------\u001b[0m",
      "\u001b[0;31mDataContextError\u001b[0m                          Traceback (most recent call last)",
      "\u001b[0;32m<ipython-input-56-7ca7538eb288>\u001b[0m in \u001b[0;36m<module>\u001b[0;34m\u001b[0m\n\u001b[0;32m----> 1\u001b[0;31m \u001b[0mcontext\u001b[0m\u001b[0;34m.\u001b[0m\u001b[0mcreate_expectation_suite\u001b[0m\u001b[0;34m(\u001b[0m\u001b[0;34m\"my_new_suite\"\u001b[0m\u001b[0;34m)\u001b[0m\u001b[0;34m\u001b[0m\u001b[0;34m\u001b[0m\u001b[0m\n\u001b[0m",
      "\u001b[0;32m/srv/conda/envs/notebook/lib/python3.7/site-packages/great_expectations/data_context/data_context.py\u001b[0m in \u001b[0;36mcreate_expectation_suite\u001b[0;34m(self, expectation_suite_name, overwrite_existing)\u001b[0m\n\u001b[1;32m   1221\u001b[0m                 \u001b[0;34m\"expectation_suite with name {} already exists. If you would like to overwrite this \"\u001b[0m\u001b[0;34m\u001b[0m\u001b[0;34m\u001b[0m\u001b[0m\n\u001b[1;32m   1222\u001b[0m                 \"expectation_suite, set overwrite_existing=True.\".format(\n\u001b[0;32m-> 1223\u001b[0;31m                     \u001b[0mexpectation_suite_name\u001b[0m\u001b[0;34m\u001b[0m\u001b[0;34m\u001b[0m\u001b[0m\n\u001b[0m\u001b[1;32m   1224\u001b[0m                 )\n\u001b[1;32m   1225\u001b[0m             )\n",
      "\u001b[0;31mDataContextError\u001b[0m: expectation_suite with name my_new_suite already exists. If you would like to overwrite this expectation_suite, set overwrite_existing=True."
     ]
    }
   ],
   "source": [
    "context.create_expectation_suite(\"my_new_suite\")\n"
   ]
  },
  {
   "cell_type": "markdown",
   "metadata": {},
   "source": [
    "# Creating Batch\n",
    "- The components are \n",
    "    1. `path` to the dataset, which is `dc-wikia-data.csv`\n",
    "    2. `datasource` that we have defined in the config\n",
    "        - add explanation on how these two come to\n",
    "    3. \n",
    "- "
   ]
  },
  {
   "cell_type": "code",
   "execution_count": 57,
   "metadata": {},
   "outputs": [],
   "source": [
    "my_batch = context.get_batch({\n",
    "      \"path\": \"dc-wikia-data.csv\", \n",
    "      \"datasource\": \"my_local_datasource\",\n",
    "   }, \"my_new_suite\")"
   ]
  },
  {
   "cell_type": "markdown",
   "metadata": {},
   "source": [
    "# Running our first expectation\n",
    "- the"
   ]
  },
  {
   "cell_type": "code",
   "execution_count": 58,
   "metadata": {},
   "outputs": [
    {
     "data": {
      "text/plain": [
       "{\n",
       "  \"success\": true,\n",
       "  \"meta\": {},\n",
       "  \"exception_info\": null,\n",
       "  \"result\": {\n",
       "    \"observed_value\": [\n",
       "      \"page_id\",\n",
       "      \"name\",\n",
       "      \"urlslug\",\n",
       "      \"ID\",\n",
       "      \"ALIGN\",\n",
       "      \"EYE\",\n",
       "      \"HAIR\",\n",
       "      \"SEX\",\n",
       "      \"GSM\",\n",
       "      \"ALIVE\",\n",
       "      \"APPEARANCES\",\n",
       "      \"FIRST APPEARANCE\",\n",
       "      \"YEAR\"\n",
       "    ]\n",
       "  }\n",
       "}"
      ]
     },
     "execution_count": 58,
     "metadata": {},
     "output_type": "execute_result"
    }
   ],
   "source": [
    "my_batch.expect_table_columns_to_match_ordered_list([\"page_id\",\n",
    "      \"name\",\n",
    "      \"urlslug\",\n",
    "      \"ID\",\n",
    "      \"ALIGN\",\n",
    "      \"EYE\",\n",
    "      \"HAIR\",\n",
    "      \"SEX\",\n",
    "      \"GSM\",\n",
    "      \"ALIVE\",\n",
    "      \"APPEARANCES\",\n",
    "      \"FIRST APPEARANCE\",\n",
    "      \"YEAR\"])"
   ]
  },
  {
   "cell_type": "code",
   "execution_count": null,
   "metadata": {},
   "outputs": [],
   "source": []
  },
  {
   "cell_type": "markdown",
   "metadata": {},
   "source": [
    "#GE_spark_d.save_expectation_suite(filepath=\"/FileStore/testing/expectations/test.json\")"
   ]
  }
 ],
 "metadata": {
  "kernelspec": {
   "display_name": "Python 3",
   "language": "python",
   "name": "python3"
  },
  "language_info": {
   "codemirror_mode": {
    "name": "ipython",
    "version": 3
   },
   "file_extension": ".py",
   "mimetype": "text/x-python",
   "name": "python",
   "nbconvert_exporter": "python",
   "pygments_lexer": "ipython3",
   "version": "3.7.6"
  }
 },
 "nbformat": 4,
 "nbformat_minor": 4
}
